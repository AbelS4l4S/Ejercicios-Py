{
  "nbformat": 4,
  "nbformat_minor": 0,
  "metadata": {
    "colab": {
      "name": "Juego de los dados.ipynb",
      "provenance": [],
      "authorship_tag": "ABX9TyPPTsYusuUDkcqGclzHn05t",
      "include_colab_link": true
    },
    "kernelspec": {
      "name": "python3",
      "display_name": "Python 3"
    }
  },
  "cells": [
    {
      "cell_type": "markdown",
      "metadata": {
        "id": "view-in-github",
        "colab_type": "text"
      },
      "source": [
        "<a href=\"https://colab.research.google.com/github/AbelS4l4S/Ejercicios-Py/blob/main/Juego_de_los_dados.ipynb\" target=\"_parent\"><img src=\"https://colab.research.google.com/assets/colab-badge.svg\" alt=\"Open In Colab\"/></a>"
      ]
    },
    {
      "cell_type": "code",
      "metadata": {
        "id": "UB-Jq207l6DV"
      },
      "source": [
        "import random\r\n",
        "\r\n",
        "v_min=1\r\n",
        "v_max=6\r\n",
        "tirar='y'\r\n",
        "\r\n",
        "while tirar=='y':\r\n",
        "  print('Tirando los dados...')\r\n",
        "  dado1=random.randint(v_min,v_max)\r\n",
        "  dado2=random.randint(v_min,v_max)\r\n",
        "  print(f'El valor de los dados fueron {dado1} y {dado2}')\r\n",
        "  print(f'Sumando un valor de {dado1+dado2}')\r\n",
        "  tirar=input('¿Quieres tirar de nuevo? (y / n): ')\r\n"
      ],
      "execution_count": null,
      "outputs": []
    }
  ]
}